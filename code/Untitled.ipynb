{
 "cells": [
  {
   "cell_type": "code",
   "execution_count": 1,
   "id": "5993e16d-3298-4bf2-a38e-2d19066612eb",
   "metadata": {
    "tags": []
   },
   "outputs": [],
   "source": [
    "import numpy as np\n",
    "import matplotlib.pyplot as plt\n",
    "import networkx as nx\n",
    "from dotmotif import Motif, GrandIsoExecutor\n",
    "%matplotlib inline\n",
    "from mpl_toolkits.mplot3d import Axes3D\n",
    "from matplotlib.patches import FancyArrowPatch\n",
    "from mpl_toolkits.mplot3d import proj3d\n",
    "from mpl_toolkits.mplot3d.proj3d import proj_transform\n",
    "from mpl_toolkits.mplot3d.axes3d import Axes3D\n",
    "from math import comb"
   ]
  },
  {
   "cell_type": "code",
   "execution_count": null,
   "id": "cb8ae29d-e385-43cc-9aa1-3d5ba1011e08",
   "metadata": {},
   "outputs": [],
   "source": [
    "def modwax(pmin, pmax, dvec, s):\n",
    "    ret = np.zeros(len(dvec))\n",
    "    for i in range(len(dvec)):\n",
    "        d = dvec[i]\n",
    "        ret[i] = s*pmin\n",
    "        if d < 85:\n",
    "            ret[i] += s*pmax*np.exp("
   ]
  },
  {
   "cell_type": "code",
   "execution_count": null,
   "id": "07656765-ff06-47c6-b059-02d865d08c8a",
   "metadata": {},
   "outputs": [],
   "source": [
    "modwax = lambda pmin, pmax, d, s: s*(pmax*np.exp())\n",
    "\n",
    "beta = 1\n",
    "d0 = 1\n",
    "dvec = np.arange(0,5.1,0.1)\n",
    "pvec = wax(beta, dvec, d0)\n",
    "\n",
    "fig,ax = plt.subplots()\n",
    "ax.plot(dvec,pvec,color='black',linewidth=3)\n",
    "ax.set_ylim([-0.1,1.1])\n",
    "ax.set_xlim([dvec[0],dvec[-1]])\n",
    "ax.set_xlabel(r'distance $d(i,j)$',fontsize=20)\n",
    "ax.set_ylabel(r'probability $P(i,j)$',fontsize=20)\n",
    "ax.set_yticks([0,wax(beta, d0, d0),beta])\n",
    "ax.set_yticklabels(['0',r'$\\beta/e$',r'$\\beta$'])\n",
    "ax.tick_params(axis='y',labelsize=15)\n",
    "ax.set_xticks([0,d0])\n",
    "ax.set_xticklabels(['0',r'$d_0$'])\n",
    "ax.tick_params(axis='x',labelsize=15)\n",
    "ax.scatter(d0, wax(beta, d0, d0), color='black')\n",
    "ax.vlines(d0, -0.1, wax(beta, d0, d0), linestyle='--', color='black', linewidth=2)\n",
    "ax.hlines(wax(beta, d0, d0), 0, d0, linestyle='--', color='black', linewidth=2)\n",
    "plt.savefig('waxmanprob.png',bbox_inches='tight',dpi=200)\n",
    "plt.show()\n",
    "# plt.yticks(['0',r'$\\beta$'],[0,beta])"
   ]
  }
 ],
 "metadata": {
  "kernelspec": {
   "display_name": "Python 3 (ipykernel)",
   "language": "python",
   "name": "python3"
  },
  "language_info": {
   "codemirror_mode": {
    "name": "ipython",
    "version": 3
   },
   "file_extension": ".py",
   "mimetype": "text/x-python",
   "name": "python",
   "nbconvert_exporter": "python",
   "pygments_lexer": "ipython3",
   "version": "3.9.12"
  }
 },
 "nbformat": 4,
 "nbformat_minor": 5
}
