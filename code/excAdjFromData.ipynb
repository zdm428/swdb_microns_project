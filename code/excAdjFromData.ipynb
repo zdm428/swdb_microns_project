{
 "cells": [
  {
   "cell_type": "code",
   "execution_count": 1,
   "id": "3a36c4bb-c5f8-42cb-b83f-f1aac5427c18",
   "metadata": {
    "tags": []
   },
   "outputs": [],
   "source": [
    "import numpy as np\n",
    "import caveclient\n",
    "import scipy\n",
    "import pandas as pd\n",
    "import seaborn as sns\n",
    "import matplotlib.pyplot as plt\n",
    "%matplotlib inline\n",
    "import tqdm"
   ]
  },
  {
   "cell_type": "code",
   "execution_count": 2,
   "id": "4a5a635e-03e6-4f9b-bbb1-0e0ee9844b55",
   "metadata": {
    "tags": []
   },
   "outputs": [],
   "source": [
    "import platform\n",
    "import os\n",
    "\n",
    "platstring = platform.platform()\n",
    "if ('Darwin' in platstring) or ('macOS' in platstring):\n",
    "    # macOS \n",
    "    data_root = \"/Volumes/Brain2023/\"\n",
    "elif 'Windows'  in platstring:\n",
    "    # Windows (replace with the drive letter of USB drive)\n",
    "    data_root = \"E:/\"\n",
    "elif ('amzn' in platstring):\n",
    "    # then on Code Ocean\n",
    "    data_root = \"/data/\"\n",
    "else:\n",
    "    # then your own linux platform\n",
    "    # EDIT location where you mounted hard drive\n",
    "    data_root = \"/media/$USERNAME/Brain2023/\"\n",
    "    \n",
    "data_dir = os.path.join(data_root, 'microns_in_silico')\n",
    "\n",
    "# you can just override this if the location of the data varies\n",
    "# data_dir = '/Users/forrestc/Downloads/microns_in_silico/'"
   ]
  },
  {
   "cell_type": "code",
   "execution_count": 150,
   "id": "43d53c85-10f1-405e-8c97-bb780d923c8c",
   "metadata": {
    "tags": []
   },
   "outputs": [
    {
     "name": "stdout",
     "output_type": "stream",
     "text": [
      "(12094, 23)\n",
      "(1051, 10)\n"
     ]
    }
   ],
   "source": [
    "# we are going to load up the data and prepare the dataframe like we did \n",
    "# in class but with fewer comments\n",
    "\n",
    "# load up the in-silico responses as a pandas dataframe from a numpy array \n",
    "resp=pd.DataFrame(np.load(os.path.join(data_dir, 'nat_resp.npy')))\n",
    "\n",
    "# load up the csv of metadata about the 104171 units\n",
    "units_df = pd.read_csv(os.path.join(data_dir, 'nat_unit.csv'))\n",
    "\n",
    "# set the index to the be the row_idx of the units_df\n",
    "resp.index = units_df['row_idx']\n",
    "\n",
    "# if we are on code ocean, the CAVEsetup helped you make your token an environment variable\n",
    "if 'amzn' in platstring:\n",
    "    client= caveclient.CAVEclient('minnie65_public', auth_token=os.environ['API_SECRET'])\n",
    "else:\n",
    "    # otherwise if you are local, then it should be saved to a file in your harddrive \n",
    "    # that the caveclient knows where to read.\n",
    "    client= caveclient.CAVEclient('minnie65_public')\n",
    "\n",
    "# lets pull out the manual coregistered neurons\n",
    "# desired_resolution describes how many nanometers you want each unit to be\n",
    "# so 1000,1000,1000 gives positions in microns for x,y and z\n",
    "coreg_df = client.materialize.query_table('coregistration_manual_v3', desired_resolution=[1000,1000,1000])\n",
    "\n",
    "# lets merge these dataframes so we get the row_idx of each coregistered unit\n",
    "# we merge on the corresponding columns, however scan was called something\n",
    "# slightly different in one csv vs the CAVE table\n",
    "coreg_in_silico=pd.merge(units_df, coreg_df, \n",
    "         left_on=['scan_session', 'scan_idx', 'unit_id'],\n",
    "          right_on=['session','scan_idx', 'unit_id'])\n",
    "# reset the index to make sure that we have the index\n",
    "coreg_in_silico.reset_index(inplace=True)\n",
    "print(coreg_in_silico.shape)\n",
    "\n",
    "# this will pull out the responses to the coregistered units\n",
    "# by using the row_idx that was provided in the metadata\n",
    "coreg_resp = resp.loc[coreg_in_silico.row_idx,:]\n",
    "\n",
    "# now with a reduced set of units, we can calculate the Pearson correlation\n",
    "# between their responses\n",
    "corr_M = np.corrcoef(coreg_resp.values)\n",
    "\n",
    "ct_df = client.materialize.query_table('aibs_soma_nuc_exc_mtype_preds_v117')\n",
    "# lets merge it on the coregistered cells with in silico responses\n",
    "# we will use the segment version is (pt_root_id) to do this\n",
    "ct_merge_df=pd.merge(coreg_in_silico.reset_index(),\n",
    "                     ct_df[['pt_root_id', 'id_ref', 'cell_type']],\n",
    "                     on='pt_root_id')\n",
    "\n",
    "# lets pull all the neurons where we can trust the axons\n",
    "# as being reasonably well reconstructed\n",
    "prf_df=client.materialize.query_table('proofreading_status_public_release', \n",
    "                                      filter_in_dict={'status_axon': ['extended', 'clean']})\n",
    "print(prf_df.shape)\n",
    "# how many of these are coregistered?\n",
    "clean_coreg_df = pd.merge(prf_df, coreg_in_silico, on='pt_root_id')\n",
    "\n",
    "# we need this code to work in solutions directory\n",
    "# and one up..\n",
    "workshop2file = 'all_prf_coreg_conn_v661.pkl'\n",
    "all_syn_df = pd.read_pickle(workshop2file)\n",
    "\n",
    "nuc_df = client.materialize.query_view('nucleus_detection_lookup_v1', \n",
    "                                        select_columns = ['id', 'pt_root_id', 'pt_position'],\n",
    "                                        desired_resolution=[1000,1000,1000])\n",
    "\n",
    "# lets merge on the pre and post-synaptic positions of these connections\n",
    "\n",
    "# renaming the positions as pre and post depending on how we did the merge\n",
    "# and drop the duplicate id columns\n",
    "all_syn_dfm=all_syn_df.merge(nuc_df[['id', 'pt_position']], left_on='pre_nuc_id', right_on='id')\\\n",
    ".rename({'pt_position':'pre_pt_position'}, axis=1)\\\n",
    ".merge(nuc_df[['id', 'pt_position']], left_on='post_nuc_id', right_on='id')\\\n",
    ".rename({'pt_position':'post_pt_position'}, axis=1)\\\n",
    ".drop(['id_x', 'id_y'], axis=1)\n",
    "\n",
    "# now lets merge in the neurons that are coregistered with responses\n",
    "\n",
    "# we have to drop duplicates to avoid the few cells that were coregistered twice \n",
    "# being double counted\n",
    "all_syn_dfm2=all_syn_dfm.merge(coreg_in_silico[['index','target_id', 'scan_session', 'scan_idx', 'field','unit_id', 'score', 'residual']],\n",
    "                  left_on='pre_nuc_id', \n",
    "                  right_on='target_id')\\\n",
    ".merge(coreg_in_silico[['index','target_id', 'scan_session', 'scan_idx', 'field','unit_id','score', 'residual']],\n",
    "                  left_on='post_nuc_id', \n",
    "                  right_on='target_id',\n",
    "                  suffixes=['_pre', '_post'])\\\n",
    ".drop(['target_id_pre', 'target_id_post'],axis=1)\\\n",
    ".drop_duplicates(subset=['pre_nuc_id', 'post_nuc_id'])\n",
    "all_syn_dfm2\n",
    "\n",
    "# now use fancy indexing to pull out the correlation associated with each of these connections\n",
    "all_syn_dfm2['C']=corr_M[all_syn_dfm2.index_pre, all_syn_dfm2.index_post]\n",
    "\n",
    "\n",
    "# now lets merge in our cell type calls\n",
    "# by using suffixes we will name the pre and post synaptic cell type \n",
    "# differently\n",
    "all_syn_dfm3=all_syn_dfm2.merge(ct_df[['target_id', 'cell_type']],\n",
    "                  left_on='pre_nuc_id', \n",
    "                  right_on='target_id')\\\n",
    ".merge(ct_df[['target_id', 'cell_type']],\n",
    "                  left_on='post_nuc_id', \n",
    "                  right_on='target_id',\n",
    "                  suffixes=['_pre', '_post'])\\\n",
    ".drop(['target_id_pre', 'target_id_post'],axis=1)\\\n",
    ".drop_duplicates(subset=['pre_nuc_id', 'post_nuc_id'])\n",
    "\n",
    "\n"
   ]
  },
  {
   "cell_type": "code",
   "execution_count": 154,
   "id": "8968ae67-0407-4b99-b852-81b23b17b027",
   "metadata": {
    "tags": []
   },
   "outputs": [
    {
     "name": "stdout",
     "output_type": "stream",
     "text": [
      "(1051, 10)\n"
     ]
    }
   ],
   "source": [
    "print(prf_df.shape)"
   ]
  },
  {
   "cell_type": "code",
   "execution_count": 157,
   "id": "91812570-0bd4-490e-b434-b50f48c4df83",
   "metadata": {
    "tags": []
   },
   "outputs": [
    {
     "data": {
      "text/plain": [
       "1051"
      ]
     },
     "execution_count": 157,
     "metadata": {},
     "output_type": "execute_result"
    }
   ],
   "source": [
    "len(np.unique(prf_df[['pt_root_id']]))"
   ]
  },
  {
   "cell_type": "code",
   "execution_count": 151,
   "id": "0bfa7ca9-4c49-4855-b932-3cd79be5e419",
   "metadata": {
    "tags": []
   },
   "outputs": [
    {
     "data": {
      "text/plain": [
       "(12094, 23)"
      ]
     },
     "execution_count": 151,
     "metadata": {},
     "output_type": "execute_result"
    }
   ],
   "source": [
    "coreg_in_silico.shape"
   ]
  },
  {
   "cell_type": "code",
   "execution_count": 147,
   "id": "fbb86f81-8a59-42d8-9885-56b79a97aa11",
   "metadata": {
    "tags": []
   },
   "outputs": [
    {
     "data": {
      "text/plain": [
       "(1051, 10)"
      ]
     },
     "execution_count": 147,
     "metadata": {},
     "output_type": "execute_result"
    }
   ],
   "source": [
    "prf_df.shape"
   ]
  },
  {
   "cell_type": "code",
   "execution_count": 149,
   "id": "f6b3d0d7-6bb0-43e3-a929-38a7e4ce5a59",
   "metadata": {
    "tags": []
   },
   "outputs": [
    {
     "data": {
      "text/plain": [
       "(13925, 19)"
      ]
     },
     "execution_count": 149,
     "metadata": {},
     "output_type": "execute_result"
    }
   ],
   "source": [
    "coreg_df.shape"
   ]
  },
  {
   "cell_type": "code",
   "execution_count": 153,
   "id": "f6a47e37-fcd3-4836-a213-a6114865bccf",
   "metadata": {
    "tags": []
   },
   "outputs": [
    {
     "data": {
      "text/plain": [
       "12054"
      ]
     },
     "execution_count": 153,
     "metadata": {},
     "output_type": "execute_result"
    }
   ],
   "source": [
    "len(np.unique(coreg_df[['target_id']]))"
   ]
  },
  {
   "cell_type": "code",
   "execution_count": 152,
   "id": "cfdeb4d7-1052-4408-a0cb-60f20d618014",
   "metadata": {
    "tags": []
   },
   "outputs": [
    {
     "data": {
      "text/plain": [
       "(583, 32)"
      ]
     },
     "execution_count": 152,
     "metadata": {},
     "output_type": "execute_result"
    }
   ],
   "source": [
    "clean_coreg_df.shape"
   ]
  },
  {
   "cell_type": "code",
   "execution_count": 140,
   "id": "f3fc8b0c-f66f-4e3a-bd1f-5e3d9545b9bc",
   "metadata": {
    "tags": []
   },
   "outputs": [
    {
     "data": {
      "text/plain": [
       "Index(['id_x', 'created_x', 'superceded_id', 'valid_x', 'valid_id',\n",
       "       'status_dendrite', 'status_axon', 'pt_supervoxel_id_x', 'pt_root_id',\n",
       "       'pt_position_x', 'id_ref', 'created_ref', 'valid_ref', 'volume',\n",
       "       'pt_supervoxel_id_y', 'id_y', 'created_y', 'valid_y', 'target_id',\n",
       "       'session', 'scan_idx', 'unit_id', 'field', 'residual', 'score',\n",
       "       'pt_position_y', 'bb_start_position', 'bb_end_position'],\n",
       "      dtype='object')"
      ]
     },
     "execution_count": 140,
     "metadata": {},
     "output_type": "execute_result"
    }
   ],
   "source": [
    "clean_coreg_df.columns"
   ]
  },
  {
   "cell_type": "code",
   "execution_count": 141,
   "id": "41465bb5-5b11-4f25-9e25-acad85e999a2",
   "metadata": {
    "tags": []
   },
   "outputs": [
    {
     "data": {
      "text/plain": [
       "649"
      ]
     },
     "execution_count": 141,
     "metadata": {},
     "output_type": "execute_result"
    }
   ],
   "source": [
    "len(np.unique(clean_coreg_df[['unit_id']]))"
   ]
  },
  {
   "cell_type": "code",
   "execution_count": 4,
   "id": "aa330ded-56fc-4b0d-adae-aa0d3d4f6831",
   "metadata": {
    "tags": []
   },
   "outputs": [
    {
     "data": {
      "text/plain": [
       "Index(['pre_pt_root_id', 'post_pt_root_id', 'n_syn', 'sum_size', 'pre_nuc_id',\n",
       "       'post_nuc_id', 'pre_pt_position', 'post_pt_position', 'index_pre',\n",
       "       'scan_session_pre', 'scan_idx_pre', 'field_pre', 'unit_id_pre',\n",
       "       'score_pre', 'residual_pre', 'index_post', 'scan_session_post',\n",
       "       'scan_idx_post', 'field_post', 'unit_id_post', 'score_post',\n",
       "       'residual_post', 'C', 'cell_type_pre', 'cell_type_post'],\n",
       "      dtype='object')"
      ]
     },
     "execution_count": 4,
     "metadata": {},
     "output_type": "execute_result"
    }
   ],
   "source": [
    "all_syn_dfm3.columns"
   ]
  },
  {
   "cell_type": "code",
   "execution_count": 125,
   "id": "f8c9d17a-dc78-48c6-a36c-13ff874d258a",
   "metadata": {
    "tags": []
   },
   "outputs": [
    {
     "data": {
      "text/plain": [
       "array(['L2a', 'L2b', 'L3a', 'L3b', 'L3c', 'L4a', 'L4b', 'L4c', 'L5ET',\n",
       "       'L5NP', 'L5a', 'L5b', 'L6a'], dtype=object)"
      ]
     },
     "execution_count": 125,
     "metadata": {},
     "output_type": "execute_result"
    }
   ],
   "source": [
    "np.unique(all_syn_dfm3[['cell_type_pre']])"
   ]
  },
  {
   "cell_type": "code",
   "execution_count": 124,
   "id": "a9b90ce8-76f2-405e-bf41-d34ef65e9b78",
   "metadata": {
    "tags": []
   },
   "outputs": [
    {
     "data": {
      "text/plain": [
       "array(['L2a', 'L2b', 'L3a', 'L3b', 'L3c', 'L4a', 'L4b', 'L4c', 'L5ET',\n",
       "       'L5NP', 'L5a', 'L5b', 'L6CT', 'L6a', 'L6b'], dtype=object)"
      ]
     },
     "execution_count": 124,
     "metadata": {},
     "output_type": "execute_result"
    }
   ],
   "source": [
    "np.unique(all_syn_dfm3[['cell_type_post']])"
   ]
  },
  {
   "cell_type": "code",
   "execution_count": 129,
   "id": "036e5582-705b-4ccc-aa66-fb87863cd473",
   "metadata": {
    "tags": []
   },
   "outputs": [
    {
     "data": {
      "text/plain": [
       "33"
      ]
     },
     "execution_count": 129,
     "metadata": {},
     "output_type": "execute_result"
    }
   ],
   "source": [
    "sub = all_syn_dfm3[all_syn_dfm3['cell_type_post'] == 'L6b']\n",
    "len(sub)"
   ]
  },
  {
   "cell_type": "code",
   "execution_count": 130,
   "id": "96b948c0-3995-4f79-a9b1-923418b75717",
   "metadata": {
    "tags": []
   },
   "outputs": [
    {
     "data": {
      "text/plain": [
       "316"
      ]
     },
     "execution_count": 130,
     "metadata": {},
     "output_type": "execute_result"
    }
   ],
   "source": [
    "sub2 = all_syn_dfm3[all_syn_dfm3['cell_type_post'] == 'L6CT']\n",
    "len(sub2)"
   ]
  },
  {
   "cell_type": "code",
   "execution_count": 127,
   "id": "c7ef38f6-4415-426c-b0d0-1ad553eec719",
   "metadata": {
    "tags": []
   },
   "outputs": [
    {
     "ename": "TypeError",
     "evalue": "Cannot perform 'ror_' with a dtyped [object] array and scalar of type [bool]",
     "output_type": "error",
     "traceback": [
      "\u001b[0;31m---------------------------------------------------------------------------\u001b[0m",
      "\u001b[0;31mTypeError\u001b[0m                                 Traceback (most recent call last)",
      "File \u001b[0;32m/opt/conda/lib/python3.9/site-packages/pandas/core/ops/array_ops.py:311\u001b[0m, in \u001b[0;36mna_logical_op\u001b[0;34m(x, y, op)\u001b[0m\n\u001b[1;32m    302\u001b[0m \u001b[38;5;28;01mtry\u001b[39;00m:\n\u001b[1;32m    303\u001b[0m     \u001b[38;5;66;03m# For exposition, write:\u001b[39;00m\n\u001b[1;32m    304\u001b[0m     \u001b[38;5;66;03m#  yarr = isinstance(y, np.ndarray)\u001b[39;00m\n\u001b[0;32m   (...)\u001b[0m\n\u001b[1;32m    309\u001b[0m     \u001b[38;5;66;03m# Then Cases where this goes through without raising include:\u001b[39;00m\n\u001b[1;32m    310\u001b[0m     \u001b[38;5;66;03m#  (xint or xbool) and (yint or bool)\u001b[39;00m\n\u001b[0;32m--> 311\u001b[0m     result \u001b[38;5;241m=\u001b[39m \u001b[43mop\u001b[49m\u001b[43m(\u001b[49m\u001b[43mx\u001b[49m\u001b[43m,\u001b[49m\u001b[43m \u001b[49m\u001b[43my\u001b[49m\u001b[43m)\u001b[49m\n\u001b[1;32m    312\u001b[0m \u001b[38;5;28;01mexcept\u001b[39;00m \u001b[38;5;167;01mTypeError\u001b[39;00m:\n",
      "File \u001b[0;32m/opt/conda/lib/python3.9/site-packages/pandas/core/roperator.py:58\u001b[0m, in \u001b[0;36mror_\u001b[0;34m(left, right)\u001b[0m\n\u001b[1;32m     57\u001b[0m \u001b[38;5;28;01mdef\u001b[39;00m \u001b[38;5;21mror_\u001b[39m(left, right):\n\u001b[0;32m---> 58\u001b[0m     \u001b[38;5;28;01mreturn\u001b[39;00m \u001b[43moperator\u001b[49m\u001b[38;5;241;43m.\u001b[39;49m\u001b[43mor_\u001b[49m\u001b[43m(\u001b[49m\u001b[43mright\u001b[49m\u001b[43m,\u001b[49m\u001b[43m \u001b[49m\u001b[43mleft\u001b[49m\u001b[43m)\u001b[49m\n",
      "\u001b[0;31mTypeError\u001b[0m: unsupported operand type(s) for |: 'str' and 'str'",
      "\nDuring handling of the above exception, another exception occurred:\n",
      "\u001b[0;31mTypeError\u001b[0m                                 Traceback (most recent call last)",
      "File \u001b[0;32m/opt/conda/lib/python3.9/site-packages/pandas/core/ops/array_ops.py:325\u001b[0m, in \u001b[0;36mna_logical_op\u001b[0;34m(x, y, op)\u001b[0m\n\u001b[1;32m    324\u001b[0m \u001b[38;5;28;01mtry\u001b[39;00m:\n\u001b[0;32m--> 325\u001b[0m     result \u001b[38;5;241m=\u001b[39m \u001b[43mlibops\u001b[49m\u001b[38;5;241;43m.\u001b[39;49m\u001b[43mscalar_binop\u001b[49m\u001b[43m(\u001b[49m\u001b[43mx\u001b[49m\u001b[43m,\u001b[49m\u001b[43m \u001b[49m\u001b[43my\u001b[49m\u001b[43m,\u001b[49m\u001b[43m \u001b[49m\u001b[43mop\u001b[49m\u001b[43m)\u001b[49m\n\u001b[1;32m    326\u001b[0m \u001b[38;5;28;01mexcept\u001b[39;00m (\n\u001b[1;32m    327\u001b[0m     \u001b[38;5;167;01mTypeError\u001b[39;00m,\n\u001b[1;32m    328\u001b[0m     \u001b[38;5;167;01mValueError\u001b[39;00m,\n\u001b[0;32m   (...)\u001b[0m\n\u001b[1;32m    331\u001b[0m     \u001b[38;5;167;01mNotImplementedError\u001b[39;00m,\n\u001b[1;32m    332\u001b[0m ) \u001b[38;5;28;01mas\u001b[39;00m err:\n",
      "File \u001b[0;32m/opt/conda/lib/python3.9/site-packages/pandas/_libs/ops.pyx:210\u001b[0m, in \u001b[0;36mpandas._libs.ops.scalar_binop\u001b[0;34m()\u001b[0m\n",
      "File \u001b[0;32m/opt/conda/lib/python3.9/site-packages/pandas/core/roperator.py:58\u001b[0m, in \u001b[0;36mror_\u001b[0;34m(left, right)\u001b[0m\n\u001b[1;32m     57\u001b[0m \u001b[38;5;28;01mdef\u001b[39;00m \u001b[38;5;21mror_\u001b[39m(left, right):\n\u001b[0;32m---> 58\u001b[0m     \u001b[38;5;28;01mreturn\u001b[39;00m \u001b[43moperator\u001b[49m\u001b[38;5;241;43m.\u001b[39;49m\u001b[43mor_\u001b[49m\u001b[43m(\u001b[49m\u001b[43mright\u001b[49m\u001b[43m,\u001b[49m\u001b[43m \u001b[49m\u001b[43mleft\u001b[49m\u001b[43m)\u001b[49m\n",
      "\u001b[0;31mTypeError\u001b[0m: unsupported operand type(s) for |: 'bool' and 'str'",
      "\nThe above exception was the direct cause of the following exception:\n",
      "\u001b[0;31mTypeError\u001b[0m                                 Traceback (most recent call last)",
      "Cell \u001b[0;32mIn[127], line 1\u001b[0m\n\u001b[0;32m----> 1\u001b[0m sub \u001b[38;5;241m=\u001b[39m all_syn_dfm3[all_syn_dfm3[\u001b[38;5;124m'\u001b[39m\u001b[38;5;124mcell_type_post\u001b[39m\u001b[38;5;124m'\u001b[39m] \u001b[38;5;241m==\u001b[39m \u001b[38;5;124;43m'\u001b[39;49m\u001b[38;5;124;43mL6b\u001b[39;49m\u001b[38;5;124;43m'\u001b[39;49m\u001b[43m \u001b[49m\u001b[38;5;241;43m|\u001b[39;49m\u001b[43m \u001b[49m\u001b[43mall_syn_dfm3\u001b[49m\u001b[43m[\u001b[49m\u001b[38;5;124;43m'\u001b[39;49m\u001b[38;5;124;43mcell_type_post\u001b[39;49m\u001b[38;5;124;43m'\u001b[39;49m\u001b[43m]\u001b[49m \u001b[38;5;241m==\u001b[39m \u001b[38;5;124m'\u001b[39m\u001b[38;5;124mL6CT\u001b[39m\u001b[38;5;124m'\u001b[39m]\n",
      "File \u001b[0;32m/opt/conda/lib/python3.9/site-packages/pandas/core/ops/common.py:81\u001b[0m, in \u001b[0;36m_unpack_zerodim_and_defer.<locals>.new_method\u001b[0;34m(self, other)\u001b[0m\n\u001b[1;32m     77\u001b[0m             \u001b[38;5;28;01mreturn\u001b[39;00m \u001b[38;5;28mNotImplemented\u001b[39m\n\u001b[1;32m     79\u001b[0m other \u001b[38;5;241m=\u001b[39m item_from_zerodim(other)\n\u001b[0;32m---> 81\u001b[0m \u001b[38;5;28;01mreturn\u001b[39;00m \u001b[43mmethod\u001b[49m\u001b[43m(\u001b[49m\u001b[38;5;28;43mself\u001b[39;49m\u001b[43m,\u001b[49m\u001b[43m \u001b[49m\u001b[43mother\u001b[49m\u001b[43m)\u001b[49m\n",
      "File \u001b[0;32m/opt/conda/lib/python3.9/site-packages/pandas/core/arraylike.py:82\u001b[0m, in \u001b[0;36mOpsMixin.__ror__\u001b[0;34m(self, other)\u001b[0m\n\u001b[1;32m     80\u001b[0m \u001b[38;5;129m@unpack_zerodim_and_defer\u001b[39m(\u001b[38;5;124m\"\u001b[39m\u001b[38;5;124m__ror__\u001b[39m\u001b[38;5;124m\"\u001b[39m)\n\u001b[1;32m     81\u001b[0m \u001b[38;5;28;01mdef\u001b[39;00m \u001b[38;5;21m__ror__\u001b[39m(\u001b[38;5;28mself\u001b[39m, other):\n\u001b[0;32m---> 82\u001b[0m     \u001b[38;5;28;01mreturn\u001b[39;00m \u001b[38;5;28;43mself\u001b[39;49m\u001b[38;5;241;43m.\u001b[39;49m\u001b[43m_logical_method\u001b[49m\u001b[43m(\u001b[49m\u001b[43mother\u001b[49m\u001b[43m,\u001b[49m\u001b[43m \u001b[49m\u001b[43mroperator\u001b[49m\u001b[38;5;241;43m.\u001b[39;49m\u001b[43mror_\u001b[49m\u001b[43m)\u001b[49m\n",
      "File \u001b[0;32m/opt/conda/lib/python3.9/site-packages/pandas/core/series.py:6107\u001b[0m, in \u001b[0;36mSeries._logical_method\u001b[0;34m(self, other, op)\u001b[0m\n\u001b[1;32m   6104\u001b[0m lvalues \u001b[38;5;241m=\u001b[39m \u001b[38;5;28mself\u001b[39m\u001b[38;5;241m.\u001b[39m_values\n\u001b[1;32m   6105\u001b[0m rvalues \u001b[38;5;241m=\u001b[39m extract_array(other, extract_numpy\u001b[38;5;241m=\u001b[39m\u001b[38;5;28;01mTrue\u001b[39;00m, extract_range\u001b[38;5;241m=\u001b[39m\u001b[38;5;28;01mTrue\u001b[39;00m)\n\u001b[0;32m-> 6107\u001b[0m res_values \u001b[38;5;241m=\u001b[39m \u001b[43mops\u001b[49m\u001b[38;5;241;43m.\u001b[39;49m\u001b[43mlogical_op\u001b[49m\u001b[43m(\u001b[49m\u001b[43mlvalues\u001b[49m\u001b[43m,\u001b[49m\u001b[43m \u001b[49m\u001b[43mrvalues\u001b[49m\u001b[43m,\u001b[49m\u001b[43m \u001b[49m\u001b[43mop\u001b[49m\u001b[43m)\u001b[49m\n\u001b[1;32m   6108\u001b[0m \u001b[38;5;28;01mreturn\u001b[39;00m \u001b[38;5;28mself\u001b[39m\u001b[38;5;241m.\u001b[39m_construct_result(res_values, name\u001b[38;5;241m=\u001b[39mres_name)\n",
      "File \u001b[0;32m/opt/conda/lib/python3.9/site-packages/pandas/core/ops/array_ops.py:401\u001b[0m, in \u001b[0;36mlogical_op\u001b[0;34m(left, right, op)\u001b[0m\n\u001b[1;32m    397\u001b[0m \u001b[38;5;66;03m# For int vs int `^`, `|`, `&` are bitwise operators and return\u001b[39;00m\n\u001b[1;32m    398\u001b[0m \u001b[38;5;66;03m#   integer dtypes.  Otherwise these are boolean ops\u001b[39;00m\n\u001b[1;32m    399\u001b[0m filler \u001b[38;5;241m=\u001b[39m fill_int \u001b[38;5;28;01mif\u001b[39;00m is_self_int_dtype \u001b[38;5;129;01mand\u001b[39;00m is_other_int_dtype \u001b[38;5;28;01melse\u001b[39;00m fill_bool\n\u001b[0;32m--> 401\u001b[0m res_values \u001b[38;5;241m=\u001b[39m \u001b[43mna_logical_op\u001b[49m\u001b[43m(\u001b[49m\u001b[43mlvalues\u001b[49m\u001b[43m,\u001b[49m\u001b[43m \u001b[49m\u001b[43mrvalues\u001b[49m\u001b[43m,\u001b[49m\u001b[43m \u001b[49m\u001b[43mop\u001b[49m\u001b[43m)\u001b[49m\n\u001b[1;32m    402\u001b[0m \u001b[38;5;66;03m# error: Cannot call function of unknown type\u001b[39;00m\n\u001b[1;32m    403\u001b[0m res_values \u001b[38;5;241m=\u001b[39m filler(res_values)  \u001b[38;5;66;03m# type: ignore[operator]\u001b[39;00m\n",
      "File \u001b[0;32m/opt/conda/lib/python3.9/site-packages/pandas/core/ops/array_ops.py:334\u001b[0m, in \u001b[0;36mna_logical_op\u001b[0;34m(x, y, op)\u001b[0m\n\u001b[1;32m    326\u001b[0m         \u001b[38;5;28;01mexcept\u001b[39;00m (\n\u001b[1;32m    327\u001b[0m             \u001b[38;5;167;01mTypeError\u001b[39;00m,\n\u001b[1;32m    328\u001b[0m             \u001b[38;5;167;01mValueError\u001b[39;00m,\n\u001b[0;32m   (...)\u001b[0m\n\u001b[1;32m    331\u001b[0m             \u001b[38;5;167;01mNotImplementedError\u001b[39;00m,\n\u001b[1;32m    332\u001b[0m         ) \u001b[38;5;28;01mas\u001b[39;00m err:\n\u001b[1;32m    333\u001b[0m             typ \u001b[38;5;241m=\u001b[39m \u001b[38;5;28mtype\u001b[39m(y)\u001b[38;5;241m.\u001b[39m\u001b[38;5;18m__name__\u001b[39m\n\u001b[0;32m--> 334\u001b[0m             \u001b[38;5;28;01mraise\u001b[39;00m \u001b[38;5;167;01mTypeError\u001b[39;00m(\n\u001b[1;32m    335\u001b[0m                 \u001b[38;5;124mf\u001b[39m\u001b[38;5;124m\"\u001b[39m\u001b[38;5;124mCannot perform \u001b[39m\u001b[38;5;124m'\u001b[39m\u001b[38;5;132;01m{\u001b[39;00mop\u001b[38;5;241m.\u001b[39m\u001b[38;5;18m__name__\u001b[39m\u001b[38;5;132;01m}\u001b[39;00m\u001b[38;5;124m'\u001b[39m\u001b[38;5;124m with a dtyped [\u001b[39m\u001b[38;5;132;01m{\u001b[39;00mx\u001b[38;5;241m.\u001b[39mdtype\u001b[38;5;132;01m}\u001b[39;00m\u001b[38;5;124m] array \u001b[39m\u001b[38;5;124m\"\u001b[39m\n\u001b[1;32m    336\u001b[0m                 \u001b[38;5;124mf\u001b[39m\u001b[38;5;124m\"\u001b[39m\u001b[38;5;124mand scalar of type [\u001b[39m\u001b[38;5;132;01m{\u001b[39;00mtyp\u001b[38;5;132;01m}\u001b[39;00m\u001b[38;5;124m]\u001b[39m\u001b[38;5;124m\"\u001b[39m\n\u001b[1;32m    337\u001b[0m             ) \u001b[38;5;28;01mfrom\u001b[39;00m \u001b[38;5;21;01merr\u001b[39;00m\n\u001b[1;32m    339\u001b[0m \u001b[38;5;28;01mreturn\u001b[39;00m result\u001b[38;5;241m.\u001b[39mreshape(x\u001b[38;5;241m.\u001b[39mshape)\n",
      "\u001b[0;31mTypeError\u001b[0m: Cannot perform 'ror_' with a dtyped [object] array and scalar of type [bool]"
     ]
    }
   ],
   "source": [
    "sub = all_syn_dfm3[all_syn_dfm3['cell_type_post'] == 'L6b' | all_syn_dfm3['cell_type_post'] == 'L6CT']"
   ]
  },
  {
   "cell_type": "code",
   "execution_count": 122,
   "id": "b3995b68-2d82-4001-9cd0-bae23e7c0159",
   "metadata": {
    "tags": []
   },
   "outputs": [
    {
     "name": "stdout",
     "output_type": "stream",
     "text": [
      "452\n",
      "6695\n"
     ]
    }
   ],
   "source": [
    "uniquePreIDs = np.unique(all_syn_dfm3[['pre_pt_root_id']])\n",
    "print(len(uniquePreIDs))\n",
    "uniquePostIDs = np.unique(all_syn_dfm3[['post_pt_root_id']])\n",
    "print(len(uniquePostIDs))"
   ]
  },
  {
   "cell_type": "code",
   "execution_count": 111,
   "id": "1eccca52-2925-4328-b169-e73ef4fda58a",
   "metadata": {
    "tags": []
   },
   "outputs": [
    {
     "name": "stdout",
     "output_type": "stream",
     "text": [
      "434\n"
     ]
    }
   ],
   "source": [
    "overlap = []\n",
    "for i in range(len(uniquePreIDs)):\n",
    "    for j in range(len(uniquePostIDs)):\n",
    "        if uniquePreIDs[i] == uniquePostIDs[j]:\n",
    "            overlap.append(uniquePreIDs[i])\n",
    "print(len(overlap))"
   ]
  },
  {
   "cell_type": "code",
   "execution_count": 112,
   "id": "22a4b8b8-c5bf-476d-a0e4-218e1afc4af4",
   "metadata": {
    "tags": []
   },
   "outputs": [
    {
     "name": "stdout",
     "output_type": "stream",
     "text": [
      "452\n",
      "6695\n",
      "434\n"
     ]
    }
   ],
   "source": [
    "uniquePreIDs = np.unique(all_syn_dfm3[['pre_pt_root_id']])\n",
    "print(len(uniquePreIDs))\n",
    "uniquePostIDs = np.unique(all_syn_dfm3[['post_pt_root_id']])\n",
    "print(len(uniquePostIDs))\n",
    "uniquePreIDs = set(uniquePreIDs.flatten())\n",
    "uniquePostIDs = set(uniquePostIDs.flatten())\n",
    "# uniqueIDs = uniquePreIDs.union(uniquePostIDs)\n",
    "uniqueIDs = uniquePreIDs.intersection(uniquePostIDs)\n",
    "# uniqueIDs\n",
    "uniqueIDs = np.array(list(uniqueIDs))\n",
    "N = len(uniqueIDs) # side length of adjacency matrix\n",
    "print(N)\n",
    "\n",
    "remapDict = {}\n",
    "for i in range(N):\n",
    "    remapDict[uniqueIDs[i]] = i\n",
    "    # remapDict[i] = uniqueIDs[i]"
   ]
  },
  {
   "cell_type": "code",
   "execution_count": 113,
   "id": "37da46da-dec9-403b-8a08-4078e13a65e4",
   "metadata": {
    "tags": []
   },
   "outputs": [
    {
     "data": {
      "text/plain": [
       "434"
      ]
     },
     "execution_count": 113,
     "metadata": {},
     "output_type": "execute_result"
    }
   ],
   "source": [
    "len(remapDict)"
   ]
  },
  {
   "cell_type": "code",
   "execution_count": 114,
   "id": "64a01776-d97c-4a67-85cb-b020bd40e9df",
   "metadata": {
    "tags": []
   },
   "outputs": [],
   "source": [
    "df2 = all_syn_dfm3.replace({\"pre_pt_root_id\": remapDict})\n",
    "df2 = df2.replace({\"post_pt_root_id\": remapDict})\n",
    "# df2 = df2.sort_values('cell_type_pre')"
   ]
  },
  {
   "cell_type": "code",
   "execution_count": 115,
   "id": "55d184f0-93c4-4a5e-b757-25c45e6f9abd",
   "metadata": {
    "tags": []
   },
   "outputs": [
    {
     "data": {
      "text/html": [
       "<div>\n",
       "<style scoped>\n",
       "    .dataframe tbody tr th:only-of-type {\n",
       "        vertical-align: middle;\n",
       "    }\n",
       "\n",
       "    .dataframe tbody tr th {\n",
       "        vertical-align: top;\n",
       "    }\n",
       "\n",
       "    .dataframe thead th {\n",
       "        text-align: right;\n",
       "    }\n",
       "</style>\n",
       "<table border=\"1\" class=\"dataframe\">\n",
       "  <thead>\n",
       "    <tr style=\"text-align: right;\">\n",
       "      <th></th>\n",
       "      <th>pre_pt_root_id</th>\n",
       "      <th>post_pt_root_id</th>\n",
       "      <th>n_syn</th>\n",
       "      <th>sum_size</th>\n",
       "      <th>pre_nuc_id</th>\n",
       "      <th>post_nuc_id</th>\n",
       "      <th>pre_pt_position</th>\n",
       "      <th>post_pt_position</th>\n",
       "      <th>index_pre</th>\n",
       "      <th>scan_session_pre</th>\n",
       "      <th>...</th>\n",
       "      <th>index_post</th>\n",
       "      <th>scan_session_post</th>\n",
       "      <th>scan_idx_post</th>\n",
       "      <th>field_post</th>\n",
       "      <th>unit_id_post</th>\n",
       "      <th>score_post</th>\n",
       "      <th>residual_post</th>\n",
       "      <th>C</th>\n",
       "      <th>cell_type_pre</th>\n",
       "      <th>cell_type_post</th>\n",
       "    </tr>\n",
       "  </thead>\n",
       "  <tbody>\n",
       "    <tr>\n",
       "      <th>0</th>\n",
       "      <td>338</td>\n",
       "      <td>402</td>\n",
       "      <td>1</td>\n",
       "      <td>1732</td>\n",
       "      <td>265045</td>\n",
       "      <td>303145</td>\n",
       "      <td>[712.448, 765.376, 884.36]</td>\n",
       "      <td>[742.528, 824.896, 890.64]</td>\n",
       "      <td>1732</td>\n",
       "      <td>5</td>\n",
       "      <td>...</td>\n",
       "      <td>9470</td>\n",
       "      <td>8</td>\n",
       "      <td>5</td>\n",
       "      <td>8</td>\n",
       "      <td>9995</td>\n",
       "      <td>4.829187</td>\n",
       "      <td>12.58870</td>\n",
       "      <td>0.169119</td>\n",
       "      <td>L5ET</td>\n",
       "      <td>L5ET</td>\n",
       "    </tr>\n",
       "    <tr>\n",
       "      <th>1</th>\n",
       "      <td>301</td>\n",
       "      <td>402</td>\n",
       "      <td>1</td>\n",
       "      <td>7604</td>\n",
       "      <td>299091</td>\n",
       "      <td>303145</td>\n",
       "      <td>[771.136, 677.056, 895.2]</td>\n",
       "      <td>[742.528, 824.896, 890.64]</td>\n",
       "      <td>9201</td>\n",
       "      <td>8</td>\n",
       "      <td>...</td>\n",
       "      <td>9470</td>\n",
       "      <td>8</td>\n",
       "      <td>5</td>\n",
       "      <td>8</td>\n",
       "      <td>9995</td>\n",
       "      <td>4.829187</td>\n",
       "      <td>12.58870</td>\n",
       "      <td>0.010837</td>\n",
       "      <td>L4c</td>\n",
       "      <td>L5ET</td>\n",
       "    </tr>\n",
       "    <tr>\n",
       "      <th>2</th>\n",
       "      <td>143</td>\n",
       "      <td>402</td>\n",
       "      <td>1</td>\n",
       "      <td>9404</td>\n",
       "      <td>256576</td>\n",
       "      <td>303145</td>\n",
       "      <td>[661.632, 466.688, 881.28]</td>\n",
       "      <td>[742.528, 824.896, 890.64]</td>\n",
       "      <td>2145</td>\n",
       "      <td>5</td>\n",
       "      <td>...</td>\n",
       "      <td>9470</td>\n",
       "      <td>8</td>\n",
       "      <td>5</td>\n",
       "      <td>8</td>\n",
       "      <td>9995</td>\n",
       "      <td>4.829187</td>\n",
       "      <td>12.58870</td>\n",
       "      <td>0.040026</td>\n",
       "      <td>L2a</td>\n",
       "      <td>L5ET</td>\n",
       "    </tr>\n",
       "    <tr>\n",
       "      <th>3</th>\n",
       "      <td>64</td>\n",
       "      <td>402</td>\n",
       "      <td>2</td>\n",
       "      <td>25900</td>\n",
       "      <td>222998</td>\n",
       "      <td>303145</td>\n",
       "      <td>[644.672, 473.984, 919.88]</td>\n",
       "      <td>[742.528, 824.896, 890.64]</td>\n",
       "      <td>2091</td>\n",
       "      <td>5</td>\n",
       "      <td>...</td>\n",
       "      <td>9470</td>\n",
       "      <td>8</td>\n",
       "      <td>5</td>\n",
       "      <td>8</td>\n",
       "      <td>9995</td>\n",
       "      <td>4.829187</td>\n",
       "      <td>12.58870</td>\n",
       "      <td>0.145264</td>\n",
       "      <td>L2a</td>\n",
       "      <td>L5ET</td>\n",
       "    </tr>\n",
       "    <tr>\n",
       "      <th>4</th>\n",
       "      <td>167</td>\n",
       "      <td>402</td>\n",
       "      <td>1</td>\n",
       "      <td>9972</td>\n",
       "      <td>260697</td>\n",
       "      <td>303145</td>\n",
       "      <td>[682.624, 583.36, 891.24]</td>\n",
       "      <td>[742.528, 824.896, 890.64]</td>\n",
       "      <td>4553</td>\n",
       "      <td>6</td>\n",
       "      <td>...</td>\n",
       "      <td>9470</td>\n",
       "      <td>8</td>\n",
       "      <td>5</td>\n",
       "      <td>8</td>\n",
       "      <td>9995</td>\n",
       "      <td>4.829187</td>\n",
       "      <td>12.58870</td>\n",
       "      <td>0.191115</td>\n",
       "      <td>L4a</td>\n",
       "      <td>L5ET</td>\n",
       "    </tr>\n",
       "    <tr>\n",
       "      <th>...</th>\n",
       "      <td>...</td>\n",
       "      <td>...</td>\n",
       "      <td>...</td>\n",
       "      <td>...</td>\n",
       "      <td>...</td>\n",
       "      <td>...</td>\n",
       "      <td>...</td>\n",
       "      <td>...</td>\n",
       "      <td>...</td>\n",
       "      <td>...</td>\n",
       "      <td>...</td>\n",
       "      <td>...</td>\n",
       "      <td>...</td>\n",
       "      <td>...</td>\n",
       "      <td>...</td>\n",
       "      <td>...</td>\n",
       "      <td>...</td>\n",
       "      <td>...</td>\n",
       "      <td>...</td>\n",
       "      <td>...</td>\n",
       "      <td>...</td>\n",
       "    </tr>\n",
       "    <tr>\n",
       "      <th>22850</th>\n",
       "      <td>381</td>\n",
       "      <td>864691136144613428</td>\n",
       "      <td>1</td>\n",
       "      <td>3232</td>\n",
       "      <td>560732</td>\n",
       "      <td>589247</td>\n",
       "      <td>[1310.336, 760.896, 834.8]</td>\n",
       "      <td>[1343.104, 760.384, 928.8]</td>\n",
       "      <td>8446</td>\n",
       "      <td>7</td>\n",
       "      <td>...</td>\n",
       "      <td>889</td>\n",
       "      <td>4</td>\n",
       "      <td>7</td>\n",
       "      <td>8</td>\n",
       "      <td>8000</td>\n",
       "      <td>12.462448</td>\n",
       "      <td>4.24028</td>\n",
       "      <td>0.025147</td>\n",
       "      <td>L5ET</td>\n",
       "      <td>L5b</td>\n",
       "    </tr>\n",
       "    <tr>\n",
       "      <th>22851</th>\n",
       "      <td>381</td>\n",
       "      <td>864691136106586585</td>\n",
       "      <td>1</td>\n",
       "      <td>7904</td>\n",
       "      <td>560732</td>\n",
       "      <td>586049</td>\n",
       "      <td>[1310.336, 760.896, 834.8]</td>\n",
       "      <td>[1372.48, 581.696, 900.4]</td>\n",
       "      <td>8446</td>\n",
       "      <td>7</td>\n",
       "      <td>...</td>\n",
       "      <td>7600</td>\n",
       "      <td>7</td>\n",
       "      <td>3</td>\n",
       "      <td>4</td>\n",
       "      <td>5318</td>\n",
       "      <td>-8.373077</td>\n",
       "      <td>12.72040</td>\n",
       "      <td>-0.000407</td>\n",
       "      <td>L5ET</td>\n",
       "      <td>L4b</td>\n",
       "    </tr>\n",
       "    <tr>\n",
       "      <th>22852</th>\n",
       "      <td>381</td>\n",
       "      <td>864691135916238182</td>\n",
       "      <td>1</td>\n",
       "      <td>7556</td>\n",
       "      <td>560732</td>\n",
       "      <td>653458</td>\n",
       "      <td>[1310.336, 760.896, 834.8]</td>\n",
       "      <td>[1456.576, 561.024, 898.28]</td>\n",
       "      <td>8446</td>\n",
       "      <td>7</td>\n",
       "      <td>...</td>\n",
       "      <td>9564</td>\n",
       "      <td>9</td>\n",
       "      <td>3</td>\n",
       "      <td>2</td>\n",
       "      <td>1487</td>\n",
       "      <td>5.074941</td>\n",
       "      <td>10.86790</td>\n",
       "      <td>0.062903</td>\n",
       "      <td>L5ET</td>\n",
       "      <td>L3c</td>\n",
       "    </tr>\n",
       "    <tr>\n",
       "      <th>22853</th>\n",
       "      <td>381</td>\n",
       "      <td>864691135387639681</td>\n",
       "      <td>1</td>\n",
       "      <td>1192</td>\n",
       "      <td>560732</td>\n",
       "      <td>615601</td>\n",
       "      <td>[1310.336, 760.896, 834.8]</td>\n",
       "      <td>[1405.824, 661.568, 648.28]</td>\n",
       "      <td>8446</td>\n",
       "      <td>7</td>\n",
       "      <td>...</td>\n",
       "      <td>2613</td>\n",
       "      <td>5</td>\n",
       "      <td>7</td>\n",
       "      <td>6</td>\n",
       "      <td>6580</td>\n",
       "      <td>5.188042</td>\n",
       "      <td>6.35578</td>\n",
       "      <td>-0.128817</td>\n",
       "      <td>L5ET</td>\n",
       "      <td>L5ET</td>\n",
       "    </tr>\n",
       "    <tr>\n",
       "      <th>22854</th>\n",
       "      <td>381</td>\n",
       "      <td>864691135441581640</td>\n",
       "      <td>1</td>\n",
       "      <td>1068</td>\n",
       "      <td>560732</td>\n",
       "      <td>612808</td>\n",
       "      <td>[1310.336, 760.896, 834.8]</td>\n",
       "      <td>[1439.104, 566.976, 905.12]</td>\n",
       "      <td>8446</td>\n",
       "      <td>7</td>\n",
       "      <td>...</td>\n",
       "      <td>10184</td>\n",
       "      <td>9</td>\n",
       "      <td>3</td>\n",
       "      <td>4</td>\n",
       "      <td>5117</td>\n",
       "      <td>7.252202</td>\n",
       "      <td>1.69465</td>\n",
       "      <td>0.058357</td>\n",
       "      <td>L5ET</td>\n",
       "      <td>L4b</td>\n",
       "    </tr>\n",
       "  </tbody>\n",
       "</table>\n",
       "<p>22855 rows × 25 columns</p>\n",
       "</div>"
      ],
      "text/plain": [
       "       pre_pt_root_id     post_pt_root_id  n_syn  sum_size  pre_nuc_id  \\\n",
       "0                 338                 402      1      1732      265045   \n",
       "1                 301                 402      1      7604      299091   \n",
       "2                 143                 402      1      9404      256576   \n",
       "3                  64                 402      2     25900      222998   \n",
       "4                 167                 402      1      9972      260697   \n",
       "...               ...                 ...    ...       ...         ...   \n",
       "22850             381  864691136144613428      1      3232      560732   \n",
       "22851             381  864691136106586585      1      7904      560732   \n",
       "22852             381  864691135916238182      1      7556      560732   \n",
       "22853             381  864691135387639681      1      1192      560732   \n",
       "22854             381  864691135441581640      1      1068      560732   \n",
       "\n",
       "       post_nuc_id             pre_pt_position             post_pt_position  \\\n",
       "0           303145  [712.448, 765.376, 884.36]   [742.528, 824.896, 890.64]   \n",
       "1           303145   [771.136, 677.056, 895.2]   [742.528, 824.896, 890.64]   \n",
       "2           303145  [661.632, 466.688, 881.28]   [742.528, 824.896, 890.64]   \n",
       "3           303145  [644.672, 473.984, 919.88]   [742.528, 824.896, 890.64]   \n",
       "4           303145   [682.624, 583.36, 891.24]   [742.528, 824.896, 890.64]   \n",
       "...            ...                         ...                          ...   \n",
       "22850       589247  [1310.336, 760.896, 834.8]   [1343.104, 760.384, 928.8]   \n",
       "22851       586049  [1310.336, 760.896, 834.8]    [1372.48, 581.696, 900.4]   \n",
       "22852       653458  [1310.336, 760.896, 834.8]  [1456.576, 561.024, 898.28]   \n",
       "22853       615601  [1310.336, 760.896, 834.8]  [1405.824, 661.568, 648.28]   \n",
       "22854       612808  [1310.336, 760.896, 834.8]  [1439.104, 566.976, 905.12]   \n",
       "\n",
       "       index_pre  scan_session_pre  ...  index_post  scan_session_post  \\\n",
       "0           1732                 5  ...        9470                  8   \n",
       "1           9201                 8  ...        9470                  8   \n",
       "2           2145                 5  ...        9470                  8   \n",
       "3           2091                 5  ...        9470                  8   \n",
       "4           4553                 6  ...        9470                  8   \n",
       "...          ...               ...  ...         ...                ...   \n",
       "22850       8446                 7  ...         889                  4   \n",
       "22851       8446                 7  ...        7600                  7   \n",
       "22852       8446                 7  ...        9564                  9   \n",
       "22853       8446                 7  ...        2613                  5   \n",
       "22854       8446                 7  ...       10184                  9   \n",
       "\n",
       "       scan_idx_post  field_post  unit_id_post  score_post  residual_post  \\\n",
       "0                  5           8          9995    4.829187       12.58870   \n",
       "1                  5           8          9995    4.829187       12.58870   \n",
       "2                  5           8          9995    4.829187       12.58870   \n",
       "3                  5           8          9995    4.829187       12.58870   \n",
       "4                  5           8          9995    4.829187       12.58870   \n",
       "...              ...         ...           ...         ...            ...   \n",
       "22850              7           8          8000   12.462448        4.24028   \n",
       "22851              3           4          5318   -8.373077       12.72040   \n",
       "22852              3           2          1487    5.074941       10.86790   \n",
       "22853              7           6          6580    5.188042        6.35578   \n",
       "22854              3           4          5117    7.252202        1.69465   \n",
       "\n",
       "              C  cell_type_pre  cell_type_post  \n",
       "0      0.169119           L5ET            L5ET  \n",
       "1      0.010837            L4c            L5ET  \n",
       "2      0.040026            L2a            L5ET  \n",
       "3      0.145264            L2a            L5ET  \n",
       "4      0.191115            L4a            L5ET  \n",
       "...         ...            ...             ...  \n",
       "22850  0.025147           L5ET             L5b  \n",
       "22851 -0.000407           L5ET             L4b  \n",
       "22852  0.062903           L5ET             L3c  \n",
       "22853 -0.128817           L5ET            L5ET  \n",
       "22854  0.058357           L5ET             L4b  \n",
       "\n",
       "[22855 rows x 25 columns]"
      ]
     },
     "execution_count": 115,
     "metadata": {},
     "output_type": "execute_result"
    }
   ],
   "source": [
    "df2"
   ]
  },
  {
   "cell_type": "code",
   "execution_count": 116,
   "id": "f11d6fb6-3aec-418b-89b4-4144f3446947",
   "metadata": {
    "tags": []
   },
   "outputs": [
    {
     "name": "stdout",
     "output_type": "stream",
     "text": [
      "[[               338                402]\n",
      " [               301                402]\n",
      " [               143                402]\n",
      " ...\n",
      " [               381 864691135916238182]\n",
      " [               381 864691135387639681]\n",
      " [               381 864691135441581640]]\n",
      "22855\n"
     ]
    }
   ],
   "source": [
    "pre_post_IDs = np.array(df2[['pre_pt_root_id','post_pt_root_id']])\n",
    "print(pre_post_IDs)\n",
    "numConnections = pre_post_IDs.shape[0]\n",
    "print(numConnections)"
   ]
  },
  {
   "cell_type": "code",
   "execution_count": 119,
   "id": "08de7461-f603-426f-b7b2-aa4f16436c8b",
   "metadata": {
    "tags": []
   },
   "outputs": [],
   "source": [
    "A = np.zeros((N,N)) # adjacency matrix\n",
    "for i in range(numConnections):\n",
    "    pre_post = pre_post_IDs[i,:]\n",
    "    # print(pre_post)\n",
    "    pre_idx = pre_post[0]\n",
    "    post_idx = pre_post[1]\n",
    "    if pre_idx < N and post_idx < N:\n",
    "        A[pre_idx][post_idx] = 1"
   ]
  },
  {
   "cell_type": "code",
   "execution_count": 120,
   "id": "b7e3ea84-84cc-44af-8f7c-2eb41360dd93",
   "metadata": {
    "tags": []
   },
   "outputs": [
    {
     "name": "stdout",
     "output_type": "stream",
     "text": [
      "(434, 434)\n"
     ]
    }
   ],
   "source": [
    "print(A.shape)"
   ]
  },
  {
   "cell_type": "code",
   "execution_count": 106,
   "id": "ec26c4d3-75cb-4753-a0c5-ecd86ae3d08b",
   "metadata": {
    "tags": []
   },
   "outputs": [
    {
     "data": {
      "text/plain": [
       "(array([   2,    2,    2, ..., 6711, 6711, 6711]),\n",
       " array([ 178,  338,  369, ..., 6143, 6302, 6391]))"
      ]
     },
     "execution_count": 106,
     "metadata": {},
     "output_type": "execute_result"
    }
   ],
   "source": [
    "np.nonzero(A)"
   ]
  },
  {
   "cell_type": "code",
   "execution_count": 107,
   "id": "9a598174-41d2-474e-b652-616cc44d4450",
   "metadata": {
    "tags": []
   },
   "outputs": [
    {
     "data": {
      "text/plain": [
       "array([[0., 0., 0., ..., 0., 0., 0.],\n",
       "       [0., 0., 0., ..., 0., 0., 0.],\n",
       "       [0., 0., 0., ..., 0., 0., 0.],\n",
       "       ...,\n",
       "       [0., 0., 0., ..., 0., 0., 0.],\n",
       "       [0., 0., 0., ..., 0., 0., 0.],\n",
       "       [0., 0., 0., ..., 0., 0., 0.]])"
      ]
     },
     "execution_count": 107,
     "metadata": {},
     "output_type": "execute_result"
    }
   ],
   "source": [
    "A"
   ]
  },
  {
   "cell_type": "code",
   "execution_count": 121,
   "id": "a9d0a379-a61c-4f1d-accb-ae5ca65f7a32",
   "metadata": {
    "tags": []
   },
   "outputs": [
    {
     "data": {
      "image/png": "[encoded data removed]",
      "text/plain": [
       "<Figure size 640x480 with 1 Axes>"
      ]
     },
     "metadata": {},
     "output_type": "display_data"
    }
   ],
   "source": [
    "plt.imshow(A,cmap='Greys')\n",
    "plt.show()"
   ]
  },
  {
   "cell_type": "code",
   "execution_count": 6,
   "id": "c7a8cc3a-3466-4c88-8aef-24035afd8e55",
   "metadata": {
    "tags": []
   },
   "outputs": [
    {
     "name": "stdout",
     "output_type": "stream",
     "text": [
      "Help on method synapse_query in module caveclient.materializationengine:\n",
      "\n",
      "synapse_query(pre_ids: Union[int, Iterable, numpy.ndarray] = None, post_ids: Union[int, Iterable, numpy.ndarray] = None, bounding_box=None, bounding_box_column: str = 'post_pt_position', timestamp: datetime.datetime = None, remove_autapses: bool = True, include_zeros: bool = True, limit: int = None, offset: int = None, split_positions: bool = False, desired_resolution: Iterable[float] = None, materialization_version: int = None, synapse_table: str = None, datastack_name: str = None, metadata: bool = True) method of caveclient.materializationengine.MaterializatonClientV3 instance\n",
      "    Convience method for quering synapses. Will use the synapse table specified in the info service by default.\n",
      "    It will also remove autapses by default. NOTE: This is not designed to allow querying of the entire synapse table.\n",
      "    A query with no filters will return only a limited number of rows (configured by the server) and will do so in a non-deterministic fashion.\n",
      "    Please contact your dataset administrator if you want access to the entire table.\n",
      "    \n",
      "    Args:\n",
      "        pre_ids (Union[int, Iterable, optional): pre_synaptic cell(s) to query. Defaults to None.\n",
      "        post_ids (Union[int, Iterable, optional): post synaptic cell(s) to query. Defaults to None.\n",
      "        timestamp (datetime.datetime, optional): timestamp to query (optional).\n",
      "            If passed recalculate query at timestamp, do not pass with materialization_verison\n",
      "        bounding_box: [[min_x, min_y, min_z],[max_x, max_y, max_z]] bounding box to filter\n",
      "                      synapse locations. Expressed in units of the voxel_resolution of this dataset (optional)\n",
      "        bounding_box_column (str, optional): which synapse location column to filter by (Default to \"post_pt_position\")\n",
      "        remove_autapses (bool, optional): post-hoc filter out synapses. Defaults to True.\n",
      "        include_zeros (bool, optional): whether to include synapses to/from id=0 (out of segmentation). Defaults to True.\n",
      "        limit (int, optional): number of synapses to limit, Defaults to None (server side limit applies)\n",
      "        offset (int, optional): number of synapses to offset query, Defaults to None (no offset).\n",
      "        split_positions (bool, optional): whether to return positions as seperate x,y,z columns (faster)\n",
      "            defaults to False\n",
      "        desired_resolution : Iterable[float] or None, optional\n",
      "            If given, should be a list or array of the desired resolution you want queries returned in\n",
      "            useful for materialization queries.\n",
      "        synapse_table (str, optional): synapse table to query. If None, defaults to self.synapse_table.\n",
      "        datastack_name: (str, optional): datastack to query\n",
      "        materialization_version (int, optional): version to query.\n",
      "            defaults to self.materialization_version if not specified\n",
      "        metadata: (bool, optional) : toggle to return metadata\n",
      "            If True (and return_df is also True), return table and query metadata in the df.attr dictionary.\n",
      "\n"
     ]
    }
   ],
   "source": [
    "help(client.materialize.synapse_query)"
   ]
  },
  {
   "cell_type": "code",
   "execution_count": 7,
   "id": "c8c755d9-52c6-4f64-881e-ead0caf8bf8c",
   "metadata": {
    "tags": []
   },
   "outputs": [],
   "source": [
    "# lets pull out the manual coregistered neurons\n",
    "# desired_resolution describes how many nanometers you want each unit to be\n",
    "# so 1000,1000,1000 gives positions in microns for x,y and z\n",
    "coreg_df = client.materialize.query_table('coregistration_manual_v3', desired_resolution=[1000,1000,1000])"
   ]
  },
  {
   "cell_type": "code",
   "execution_count": 12,
   "id": "95bb57bd-bd2f-4c06-8858-68954514b458",
   "metadata": {
    "tags": []
   },
   "outputs": [],
   "source": [
    "# lets find all cell that have clean or extended axons\n",
    "prf_df=client.materialize.query_table('proofreading_status_public_release',\n",
    "                                      filter_in_dict={'status_axon': ['extended', 'clean']})"
   ]
  },
  {
   "cell_type": "code",
   "execution_count": 16,
   "id": "246254c4-6142-464d-9664-720be41795b9",
   "metadata": {
    "tags": []
   },
   "outputs": [
    {
     "data": {
      "text/plain": [
       "((22855, 25), (13925, 19), (1051, 10))"
      ]
     },
     "execution_count": 16,
     "metadata": {},
     "output_type": "execute_result"
    }
   ],
   "source": [
    "all_syn_dfm3.shape, coreg_df.shape, prf_df.shape"
   ]
  },
  {
   "cell_type": "code",
   "execution_count": 20,
   "id": "0560b0d6-8b44-4877-9327-6bebe4573d3a",
   "metadata": {
    "tags": []
   },
   "outputs": [
    {
     "data": {
      "text/plain": [
       "(676, 28)"
      ]
     },
     "execution_count": 20,
     "metadata": {},
     "output_type": "execute_result"
    }
   ],
   "source": [
    "# merge these two to get the set of proofread AND coregistered cells\n",
    "clean_coreg_df = pd.merge(prf_df, coreg_df, on='pt_root_id')\n",
    "clean_coreg_df.shape"
   ]
  },
  {
   "cell_type": "code",
   "execution_count": 19,
   "id": "ab759dcc-b48b-42b7-893d-8ec647735221",
   "metadata": {
    "tags": []
   },
   "outputs": [
    {
     "data": {
      "text/plain": [
       "Index(['id_x', 'created_x', 'superceded_id', 'valid_x', 'valid_id',\n",
       "       'status_dendrite', 'status_axon', 'pt_supervoxel_id_x', 'pt_root_id',\n",
       "       'pt_position_x', 'id_ref', 'created_ref', 'valid_ref', 'volume',\n",
       "       'pt_supervoxel_id_y', 'id_y', 'created_y', 'valid_y', 'target_id',\n",
       "       'session', 'scan_idx', 'unit_id', 'field', 'residual', 'score',\n",
       "       'pt_position_y', 'bb_start_position', 'bb_end_position'],\n",
       "      dtype='object')"
      ]
     },
     "execution_count": 19,
     "metadata": {},
     "output_type": "execute_result"
    }
   ],
   "source": [
    "clean_coreg_df.columns"
   ]
  },
  {
   "cell_type": "code",
   "execution_count": 21,
   "id": "27a587ea-dd43-4857-a0aa-8e1f9ddf97a6",
   "metadata": {
    "tags": []
   },
   "outputs": [
    {
     "data": {
      "text/plain": [
       "array([   1,    7,   10,   11,   14,   16,   18,   19,   20,   21,   22,\n",
       "         27,   28,   35,   45,   46,   47,   48,   51,   53,   55,   56,\n",
       "         57,   58,   59,   63,   77,   80,   83,   87,   88,   91,   94,\n",
       "         95,   97,  100,  105,  109,  110,  114,  115,  119,  120,  123,\n",
       "        132,  134,  143,  144,  145,  146,  149,  150,  151,  153,  155,\n",
       "        156,  157,  158,  159,  161,  162,  164,  170,  172,  175,  177,\n",
       "        178,  181,  182,  187,  191,  193,  194,  195,  198,  205,  206,\n",
       "        208,  214,  215,  219,  220,  221,  223,  227,  231,  232,  236,\n",
       "        237,  238,  239,  240,  245,  252,  253,  258,  259,  261,  263,\n",
       "        265,  266,  269,  271,  272,  274,  280,  281,  283,  287,  289,\n",
       "        292,  294,  295,  297,  301,  302,  310,  312,  319,  320,  322,\n",
       "        323,  324,  330,  331,  333,  335,  337,  340,  341,  346,  348,\n",
       "        351,  352,  353,  357,  358,  360,  362,  364,  367,  371,  372,\n",
       "        373,  378,  379,  380,  381,  382,  384,  386,  387,  393,  394,\n",
       "        396,  401,  402,  406,  407,  408,  418,  420,  422,  424,  425,\n",
       "        429,  430,  431,  434,  438,  447,  449,  451,  456,  458,  460,\n",
       "        461,  462,  464,  465,  469,  471,  472,  478,  487,  489,  490,\n",
       "        500,  501,  502,  503,  504,  511,  512,  516,  517,  519,  522,\n",
       "        523,  524,  525,  526,  527,  528,  530,  531,  534,  538,  539,\n",
       "        543,  546,  549,  551,  557,  559,  566,  567,  570,  572,  573,\n",
       "        575,  577,  579,  584,  585,  589,  590,  592,  593,  594,  600,\n",
       "        601,  602,  603,  606,  607,  610,  611,  612,  613,  614,  615,\n",
       "        616,  617,  618,  619,  620,  622,  623,  624,  626,  628,  632,\n",
       "        634,  635,  641,  642,  643,  648,  649,  654,  656,  658,  659,\n",
       "        661,  663,  665,  667,  668,  669,  670,  672,  673,  674,  677,\n",
       "        678,  679,  680,  682,  686,  690,  692,  695,  697,  698,  702,\n",
       "        703,  704,  709,  718,  723,  725,  730,  732,  733,  734,  735,\n",
       "        740,  741,  742,  743,  746,  748,  749,  751,  754,  755,  756,\n",
       "        757,  759,  762,  767,  771,  784,  787,  788,  790,  791,  792,\n",
       "        793,  797,  799,  801,  803,  804,  805,  806,  807,  810,  811,\n",
       "        812,  813,  817,  818,  823,  825,  826,  831,  833,  835,  837,\n",
       "        838,  845,  846,  850,  851,  853,  854,  855,  861,  863,  865,\n",
       "        866,  868,  870,  873,  879,  880,  883,  886,  889,  895,  897,\n",
       "        905,  906,  907,  911,  912,  914,  915,  918,  921,  925,  926,\n",
       "        927,  928,  934,  936,  938,  941,  943,  944,  947,  951,  952,\n",
       "        956,  957,  961,  962,  963,  964,  965,  967,  968,  970,  971,\n",
       "        972,  976,  979,  981,  986,  989,  995,  998, 1000, 1002, 1006,\n",
       "       1009, 1010, 1015, 1018, 1024, 1025, 1026, 1030, 1032, 1034, 1035,\n",
       "       1036, 1037, 1038, 1039, 1041, 1045, 1049, 1050, 1052, 1053, 1054,\n",
       "       1057, 1060, 1062, 1064, 1065, 1066, 1067, 1069, 1072, 1080, 1082,\n",
       "       1087, 1090, 1092, 1093, 1095, 1099, 1100, 1101, 1103, 1105, 1108,\n",
       "       1112, 1114, 1116, 1117, 1118, 1119, 1123, 1124, 1126, 1132, 1137,\n",
       "       1147, 1151, 1152, 1156, 1157, 1160, 1161, 1163, 1164, 1165, 1167,\n",
       "       1168, 1170, 1171, 1173, 1174, 1175, 1178, 1190, 1191, 1193, 1196,\n",
       "       1204, 1205, 1207, 1208, 1210, 1211, 1217, 1222, 1223, 1225, 1230,\n",
       "       1232, 1236, 1238, 1239, 1240, 1242, 1244, 1246, 1251, 1257, 1261,\n",
       "       1268, 1269, 1270, 1271, 1272])"
      ]
     },
     "execution_count": 21,
     "metadata": {},
     "output_type": "execute_result"
    }
   ],
   "source": [
    "np.unique(clean_coreg_df[['id_x']])"
   ]
  },
  {
   "cell_type": "code",
   "execution_count": 10,
   "id": "91f6461c-4b2c-405f-a0ad-4299723ea9f8",
   "metadata": {
    "tags": []
   },
   "outputs": [
    {
     "data": {
      "text/plain": [
       "Index(['pre_pt_root_id', 'post_pt_root_id', 'n_syn', 'sum_size', 'pre_nuc_id',\n",
       "       'post_nuc_id', 'pre_pt_position', 'post_pt_position', 'index_pre',\n",
       "       'scan_session_pre', 'scan_idx_pre', 'field_pre', 'unit_id_pre',\n",
       "       'score_pre', 'residual_pre', 'index_post', 'scan_session_post',\n",
       "       'scan_idx_post', 'field_post', 'unit_id_post', 'score_post',\n",
       "       'residual_post', 'C', 'cell_type_pre', 'cell_type_post'],\n",
       "      dtype='object')"
      ]
     },
     "execution_count": 10,
     "metadata": {},
     "output_type": "execute_result"
    }
   ],
   "source": [
    "all_syn_dfm3.columns"
   ]
  },
  {
   "cell_type": "code",
   "execution_count": 11,
   "id": "cf9cfa28-37b8-4608-99c8-51c7877dddbf",
   "metadata": {},
   "outputs": [
    {
     "data": {
      "text/plain": [
       "Index(['id_ref', 'created_ref', 'valid_ref', 'volume', 'pt_supervoxel_id',\n",
       "       'pt_root_id', 'id', 'created', 'valid', 'target_id', 'session',\n",
       "       'scan_idx', 'unit_id', 'field', 'residual', 'score', 'pt_position',\n",
       "       'bb_start_position', 'bb_end_position'],\n",
       "      dtype='object')"
      ]
     },
     "execution_count": 11,
     "metadata": {},
     "output_type": "execute_result"
    }
   ],
   "source": [
    "coreg_df.columns"
   ]
  },
  {
   "cell_type": "code",
   "execution_count": 14,
   "id": "37ab3210-722f-41fa-8253-640edd7979cc",
   "metadata": {
    "tags": []
   },
   "outputs": [
    {
     "data": {
      "text/plain": [
       "Index(['id', 'created', 'superceded_id', 'valid', 'valid_id',\n",
       "       'status_dendrite', 'status_axon', 'pt_supervoxel_id', 'pt_root_id',\n",
       "       'pt_position'],\n",
       "      dtype='object')"
      ]
     },
     "execution_count": 14,
     "metadata": {},
     "output_type": "execute_result"
    }
   ],
   "source": [
    "prf_df.columns"
   ]
  },
  {
   "cell_type": "code",
   "execution_count": null,
   "id": "a4c3f634-fa09-48bf-b1d5-35cdd2d37cbf",
   "metadata": {},
   "outputs": [],
   "source": [
    "big_df = all_syn_dfm3.merge(coreg_df, how='inner',)"
   ]
  },
  {
   "cell_type": "code",
   "execution_count": 15,
   "id": "ffa70df0-e67f-4dab-a71e-57f18e891628",
   "metadata": {
    "tags": []
   },
   "outputs": [],
   "source": [
    "# lets merge these dataframes so we get the row_idx of each coregistered unit\n",
    "# we merge on the corresponding columns, however scan was called something\n",
    "# slightly different in one csv vs the CAVE table\n",
    "coreg_in_silico=pd.merge(units_df, coreg_df, \n",
    "         left_on=['scan_session', 'scan_idx', 'unit_id'],\n",
    "          right_on=['session','scan_idx', 'unit_id'])\n",
    "# reset the index to make sure that we have the index\n",
    "coreg_in_silico.reset_index(inplace=True)"
   ]
  },
  {
   "cell_type": "code",
   "execution_count": null,
   "id": "7f26608c-9d77-4b95-982f-1a68e5b8b318",
   "metadata": {},
   "outputs": [],
   "source": []
  }
 ],
 "metadata": {
  "kernelspec": {
   "display_name": "Python 3 (ipykernel)",
   "language": "python",
   "name": "python3"
  },
  "language_info": {
   "codemirror_mode": {
    "name": "ipython",
    "version": 3
   },
   "file_extension": ".py",
   "mimetype": "text/x-python",
   "name": "python",
   "nbconvert_exporter": "python",
   "pygments_lexer": "ipython3",
   "version": "3.9.12"
  }
 },
 "nbformat": 4,
 "nbformat_minor": 5
}
